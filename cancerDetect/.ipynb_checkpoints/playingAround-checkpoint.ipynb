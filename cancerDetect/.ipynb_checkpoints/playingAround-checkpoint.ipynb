{
 "cells": [
  {
   "cell_type": "code",
   "execution_count": 9,
   "metadata": {
    "collapsed": false
   },
   "outputs": [
    {
     "name": "stdout",
     "output_type": "stream",
     "text": [
      "N rows in table = 698\n",
      "N columns in table = 11\n"
     ]
    }
   ],
   "source": [
    "from __future__ import print_function, absolute_import, division\n",
    "import pandas as pd\n",
    "import matplotlib.pyplot as plt\n",
    "%matplotlib inline\n",
    "\n",
    "loadP = '/home/mel/Documents/MLfun/cancerDetec/rawData.txt'\n",
    "\n",
    "hand = pd.read_csv(loadP,iterator = True, chunksize = 1000)\n",
    "\n",
    "n_rows = 0\n",
    "for h in hand:\n",
    "  n_rows += h.shape[0]  \n",
    "print('N rows in table = ' + str(n_rows))\n",
    "print('N columns in table = ' + str(h.shape[1]))"
   ]
  },
  {
   "cell_type": "code",
   "execution_count": 30,
   "metadata": {
    "collapsed": false
   },
   "outputs": [
    {
     "data": {
      "text/plain": [
       "0       1\n",
       "1      10\n",
       "2       2\n",
       "3       4\n",
       "4       1\n",
       "5      10\n",
       "6      10\n",
       "7       1\n",
       "8       1\n",
       "9       1\n",
       "10      1\n",
       "11      1\n",
       "12      3\n",
       "13      3\n",
       "14      9\n",
       "15      1\n",
       "16      1\n",
       "17      1\n",
       "18     10\n",
       "19      1\n",
       "20     10\n",
       "21      7\n",
       "22      1\n",
       "23      ?\n",
       "24      1\n",
       "25      7\n",
       "26      1\n",
       "27      1\n",
       "28      1\n",
       "29      1\n",
       "       ..\n",
       "669     5\n",
       "670     8\n",
       "671     1\n",
       "672     1\n",
       "673     1\n",
       "674     1\n",
       "675     1\n",
       "676     1\n",
       "677     1\n",
       "678     1\n",
       "679     1\n",
       "680    10\n",
       "681    10\n",
       "682     1\n",
       "683     1\n",
       "684     1\n",
       "685     1\n",
       "686     1\n",
       "687     1\n",
       "688     1\n",
       "689     1\n",
       "690     1\n",
       "691     5\n",
       "692     1\n",
       "693     1\n",
       "694     2\n",
       "695     1\n",
       "696     3\n",
       "697     4\n",
       "698     5\n",
       "Name: nuclei, dtype: object"
      ]
     },
     "execution_count": 30,
     "metadata": {},
     "output_type": "execute_result"
    }
   ],
   "source": [
    "from __future__ import print_function,absolute_import, division\n",
    "import matplotlib.pyplot as plt\n",
    "%matplotlib inline\n",
    "import pandas as pd\n",
    "import numpy as np\n",
    "\n",
    "\n",
    "pPath = '/home/mel/Documents/MLfun/cancerDetec/' # parent pat\n",
    "\n",
    "# # Load all of the Data # # \n",
    "df = pd.read_csv(pPath+'rawData.txt',names=\n",
    "                    ['id','thickness','uniSize','uniShape','adhesion',\n",
    "                     'epiSize','nuclei','chrom','nucleo','mitos','CLASS'])\n",
    "\n",
    "np.dtype(df['CLASS'][0]) != np.int64\n",
    "\n",
    "# determine data types\n",
    "# for h in df.columns: # for each column\n",
    "#   data_type = [type(a) for a in df[h]]\n",
    "#   print(str(np.unique(data_type)) + '  ' + str(h))\n"
   ]
  },
  {
   "cell_type": "code",
   "execution_count": 48,
   "metadata": {
    "collapsed": false
   },
   "outputs": [
    {
     "data": {
      "text/plain": [
       "False"
      ]
     },
     "execution_count": 48,
     "metadata": {},
     "output_type": "execute_result"
    }
   ],
   "source": []
  }
 ],
 "metadata": {
  "kernelspec": {
   "display_name": "Python 2",
   "language": "python",
   "name": "python2"
  },
  "language_info": {
   "codemirror_mode": {
    "name": "ipython",
    "version": 2
   },
   "file_extension": ".py",
   "mimetype": "text/x-python",
   "name": "python",
   "nbconvert_exporter": "python",
   "pygments_lexer": "ipython2",
   "version": "2.7.11"
  }
 },
 "nbformat": 4,
 "nbformat_minor": 0
}
