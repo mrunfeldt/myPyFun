{
 "cells": [
  {
   "cell_type": "code",
   "execution_count": 117,
   "metadata": {
    "collapsed": false
   },
   "outputs": [],
   "source": [
    "from __future__ import print_function, division,absolute_import\n",
    "%matplotlib inline\n",
    "import matplotlib.pyplot as plt\n",
    "import pandas as pd\n",
    "import numpy as np\n",
    "\n",
    "pPath = '/home/mel/Documents/MLfun/cancerDetec/' # parent path\n",
    "fName = 'rawData.txt'\n",
    "\n",
    "# chunk = 100\n",
    "# hand = pd.read_csv(pPath+fName,iterator = True,chunksize = chunk)\n",
    "\n",
    "# nRows = 0\n",
    "# for h in hand:\n",
    "#   nRows += h.shape[0]\n",
    "  \n",
    "# print('N rows = ' + str(nRows))\n",
    "# print('N cols = ' + str(nRows))\n",
    "\n",
    "\n",
    "df = pd.read_csv(pPath+'rawData.txt',names=\n",
    "                    ['id','thickness','uniSize','uniShape','adhesion',\n",
    "                     'epiSize','nuclei','chrom','nucleo','mitos','CLASS'])\n",
    "df = df.drop('nuclei', 1)"
   ]
  },
  {
   "cell_type": "code",
   "execution_count": 125,
   "metadata": {
    "collapsed": false
   },
   "outputs": [
    {
     "name": "stdout",
     "output_type": "stream",
     "text": [
      "Accuracy = 93%\n",
      "[ 0.38109912  0.57982815  0.36811251  0.35801345]\n"
     ]
    }
   ],
   "source": [
    "# df=df.drop('thickness',1)\n",
    "# df=df.drop('uniShape',1)\n",
    "X = df.ix[:,1:-1] \n",
    "y = df['CLASS']\n",
    "\n",
    "#plt.imshow(np.corrcoef(X.T));plt.colorbar()\n",
    "\n",
    "from sklearn.linear_model import LogisticRegression\n",
    "\n",
    "# paramters #\n",
    "reg = 0.5\n",
    "\n",
    "model = LogisticRegression(C=reg,penalty = 'l2')\n",
    "model.fit(X,y)\n",
    "accu = model.score(X,y); print('Accuracy = ' + str(int(accu*100)) + '%') \n",
    "\n",
    "params = model.coef_\n",
    "yInt = model.intercept_\n",
    "print(params[0])\n",
    "#print(yInt)"
   ]
  },
  {
   "cell_type": "code",
   "execution_count": 124,
   "metadata": {
    "collapsed": false
   },
   "outputs": [
    {
     "data": {
      "text/plain": [
       "array(['id', 'uniShape', 'adhesion', 'chrom', 'nucleo', 'mitos', 'CLASS'], dtype=object)"
      ]
     },
     "execution_count": 124,
     "metadata": {},
     "output_type": "execute_result"
    }
   ],
   "source": [
    "\n",
    "params = model.coef_\n",
    "yInt = model.intercept_\n",
    "df.columns.values\n"
   ]
  }
 ],
 "metadata": {
  "kernelspec": {
   "display_name": "Python 2",
   "language": "python",
   "name": "python2"
  },
  "language_info": {
   "codemirror_mode": {
    "name": "ipython",
    "version": 2
   },
   "file_extension": ".py",
   "mimetype": "text/x-python",
   "name": "python",
   "nbconvert_exporter": "python",
   "pygments_lexer": "ipython2",
   "version": "2.7.11"
  }
 },
 "nbformat": 4,
 "nbformat_minor": 0
}
