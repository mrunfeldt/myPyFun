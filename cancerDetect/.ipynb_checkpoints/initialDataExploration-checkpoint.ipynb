{
 "cells": [
  {
   "cell_type": "markdown",
   "metadata": {},
   "source": [
    "## Step (4) Compare Models: RF, LogReg, FFNN"
   ]
  },
  {
   "cell_type": "code",
   "execution_count": 238,
   "metadata": {
    "collapsed": false
   },
   "outputs": [
    {
     "name": "stdout",
     "output_type": "stream",
     "text": [
      "Random Forest Accuracy = 100%\n"
     ]
    }
   ],
   "source": [
    "from __future__ import print_function,absolute_import, division\n",
    "import matplotlib.pyplot as plt\n",
    "%matplotlib inline\n",
    "import pandas as pd\n",
    "import numpy as np\n",
    "from sklearn.ensemble import RandomForestClassifier        \n",
    "\n",
    "pPath = '/home/mel/Documents/MLfun/cancerDetec/' # parent path\n",
    "perTrain = 0.8 # percent of data to train on\n",
    "perTest = 1-perTrain\n",
    "\n",
    "# # Load all of the Data # # \n",
    "dHand = pd.read_csv(pPath+'rawData.txt',names=\n",
    "                    ['id','thickness','uniSize','uniShape','adhesion',\n",
    "                     'epiSize','nuclei','chrom','nucleo','mitos','CLASS'])\n",
    "\n",
    "# # Convert data entries to integers - missing values converted to mode # #\n",
    "def toInt(dHand):\n",
    "  for col in dHand.columns.values:\n",
    "    xx = dHand[col] \n",
    "    dt = np.unique([type(i) for i in xx])\n",
    "    if len(dt) > 1 or type(xx.values[0]) == str: #multiple or string\n",
    "      #print(str(col)+': '+ str(dt))\n",
    "      replace = int(mode(dHand[col].values.tolist())[0][0]) # mode of column\n",
    "      for idx in range(0,len(dHand[col])):\n",
    "        try:\n",
    "          dHand.loc[idx,col] = int(dHand.loc[idx,col]) #turn into int\n",
    "        except: # CONVERT TO MODE\n",
    "          dHand.loc[idx,col] = replace\n",
    "  return dHand\n",
    "# # # # # # # # # # # # # # # # # # # # # # # # # # # # # # # # #\n",
    "\n",
    "dHand= toInt(dHand)\n",
    "\n",
    "X = dHand.iloc[:,1:-1] # Dataframe of predictor variables\n",
    "y = dHand['CLASS'].values # array of target variable\n",
    "\n",
    "\n",
    "# # # Random Forest Classifier # # # \n",
    "model = RandomForestClassifier(n_estimators=50)\n",
    "model.fit(X, y)\n",
    "accu = model.score(X,y)\n",
    "print('Random Forest Accuracy = '+ str(int(accu*100)) + '%' )\n",
    "\n",
    "\n"
   ]
  },
  {
   "cell_type": "markdown",
   "metadata": {},
   "source": [
    "## Step (3) : Use Random Forest Extra Trees to determine Feature Importance"
   ]
  },
  {
   "cell_type": "code",
   "execution_count": 5,
   "metadata": {
    "collapsed": false
   },
   "outputs": [
    {
     "name": "stdout",
     "output_type": "stream",
     "text": [
      "nuclei: [<type 'str'>]\n"
     ]
    },
    {
     "data": {
      "image/png": "[encoded data removed]",
      "text/plain": [
       "<matplotlib.figure.Figure at 0x7ff97cb271d0>"
      ]
     },
     "metadata": {},
     "output_type": "display_data"
    }
   ],
   "source": [
    "from __future__ import print_function,absolute_import, division\n",
    "import matplotlib.pyplot as plt\n",
    "%matplotlib inline\n",
    "import pandas as pd\n",
    "import numpy as np\n",
    "from sklearn.ensemble import ExtraTreesClassifier        \n",
    "#from sklearn.ensemble import RandomForestClassifier        \n",
    "\n",
    "pPath = '/home/mel/Documents/MLfun/cancerDetec/' # parent path\n",
    "\n",
    "# # Load all of the Data # # \n",
    "dHand = pd.read_csv(pPath+'rawData.txt',names=\n",
    "                    ['id','thickness','uniSize','uniShape','adhesion',\n",
    "                     'epiSize','nuclei','chrom','nucleo','mitos','CLASS'])\n",
    "\n",
    "# # Convert data entries to integers - missing values converted to mode # #\n",
    "def toInt(dHand):\n",
    "  from scipy.stats import mode\n",
    "  for col in dHand.columns.values:\n",
    "    xx = dHand[col] \n",
    "    dt = np.unique([type(i) for i in xx])\n",
    "    if len(dt) > 1 or type(xx.values[0]) == str: #multiple or string\n",
    "      print(str(col)+': '+ str(dt))\n",
    "      replace = int(mode(dHand[col].values.tolist())[0][0]) # mode of column\n",
    "      for idx in range(0,len(dHand[col])):\n",
    "        try:\n",
    "          dHand.loc[idx,col] = int(dHand.loc[idx,col]) #turn into int\n",
    "        except: # CONVERT TO MODE\n",
    "          dHand.loc[idx,col] = replace\n",
    "  return dHand\n",
    "# # # # # # # # # # # # # # # # # # # # # # # # # # # # # # # # #\n",
    "\n",
    "dHand= toInt(dHand)\n",
    "\n",
    "X = dHand.iloc[:,1:-1] # Dataframe of predictor variables\n",
    "y = dHand['CLASS'].values # array of target variable\n",
    "\n",
    "model = ExtraTreesClassifier(n_estimators=300)\n",
    "model.fit(X, y)\n",
    "featImp = model.feature_importances_; # prediction value\n",
    "\n",
    "fig = plt.figure();\n",
    "plt.bar(np.array(range(0,len(featImp))) ,featImp)\n",
    "ax=fig.gca();\n",
    "ax.set_xticks(np.array(range(0,len(featImp)))+0.5)\n",
    "ax.set_xticklabels(dHand.columns.values[1:-1],rotation = -35);\n",
    "plt.ylabel('Variable Importance',fontsize = 18);\n",
    "plt.title('Extra Trees Feature Importance');"
   ]
  },
  {
   "cell_type": "markdown",
   "metadata": {},
   "source": [
    "## Step (2): Identify data types,  deal with missing values, use PCA to check for multicollinearity"
   ]
  },
  {
   "cell_type": "code",
   "execution_count": 2,
   "metadata": {
    "collapsed": false
   },
   "outputs": [
    {
     "name": "stdout",
     "output_type": "stream",
     "text": [
      "nuclei: [<type 'str'>]\n"
     ]
    },
    {
     "ename": "AttributeError",
     "evalue": "'float' object has no attribute 'sqrt'",
     "output_type": "error",
     "traceback": [
      "\u001b[1;31m---------------------------------------------------------------------------\u001b[0m",
      "\u001b[1;31mAttributeError\u001b[0m                            Traceback (most recent call last)",
      "\u001b[1;32m<ipython-input-2-e2cf3e15595b>\u001b[0m in \u001b[0;36m<module>\u001b[1;34m()\u001b[0m\n\u001b[0;32m     38\u001b[0m \u001b[1;33m\u001b[0m\u001b[0m\n\u001b[0;32m     39\u001b[0m \u001b[1;31m# # # Correlation Matrix # # #\u001b[0m\u001b[1;33m\u001b[0m\u001b[1;33m\u001b[0m\u001b[0m\n\u001b[1;32m---> 40\u001b[1;33m \u001b[0mcorrMat\u001b[0m \u001b[1;33m=\u001b[0m \u001b[0mnp\u001b[0m\u001b[1;33m.\u001b[0m\u001b[0mcorrcoef\u001b[0m\u001b[1;33m(\u001b[0m\u001b[0mnp\u001b[0m\u001b[1;33m.\u001b[0m\u001b[0marray\u001b[0m\u001b[1;33m(\u001b[0m\u001b[0mX\u001b[0m\u001b[1;33m.\u001b[0m\u001b[0mT\u001b[0m\u001b[1;33m)\u001b[0m\u001b[1;33m)\u001b[0m\u001b[1;33m\u001b[0m\u001b[0m\n\u001b[0m\u001b[0;32m     41\u001b[0m \u001b[0mfi\u001b[0m\u001b[1;33m=\u001b[0m\u001b[0mplt\u001b[0m\u001b[1;33m.\u001b[0m\u001b[0mfigure\u001b[0m\u001b[1;33m(\u001b[0m\u001b[1;33m)\u001b[0m\u001b[1;33m;\u001b[0m\u001b[0mplt\u001b[0m\u001b[1;33m.\u001b[0m\u001b[0mtitle\u001b[0m\u001b[1;33m(\u001b[0m\u001b[1;34m'Correlation Matrix'\u001b[0m\u001b[1;33m,\u001b[0m\u001b[0mfontsize\u001b[0m \u001b[1;33m=\u001b[0m \u001b[1;36m18\u001b[0m\u001b[1;33m)\u001b[0m\u001b[1;33m\u001b[0m\u001b[0m\n\u001b[0;32m     42\u001b[0m \u001b[0mplt\u001b[0m\u001b[1;33m.\u001b[0m\u001b[0mimshow\u001b[0m\u001b[1;33m(\u001b[0m\u001b[0mcorrMat\u001b[0m\u001b[1;33m)\u001b[0m\u001b[1;33m;\u001b[0m\u001b[0mplt\u001b[0m\u001b[1;33m.\u001b[0m\u001b[0mcolorbar\u001b[0m\u001b[1;33m(\u001b[0m\u001b[1;33m)\u001b[0m\u001b[1;33m;\u001b[0m\u001b[1;33m\u001b[0m\u001b[0m\n",
      "\u001b[1;32m/home/mel/anaconda2/envs/py2e/lib/python2.7/site-packages/numpy/lib/function_base.pyc\u001b[0m in \u001b[0;36mcorrcoef\u001b[1;34m(x, y, rowvar, bias, ddof)\u001b[0m\n\u001b[0;32m   2149\u001b[0m         \u001b[1;31m# nan if incorrect value (nan, inf, 0), 1 otherwise\u001b[0m\u001b[1;33m\u001b[0m\u001b[1;33m\u001b[0m\u001b[0m\n\u001b[0;32m   2150\u001b[0m         \u001b[1;32mreturn\u001b[0m \u001b[0mc\u001b[0m \u001b[1;33m/\u001b[0m \u001b[0mc\u001b[0m\u001b[1;33m\u001b[0m\u001b[0m\n\u001b[1;32m-> 2151\u001b[1;33m     \u001b[1;32mreturn\u001b[0m \u001b[0mc\u001b[0m \u001b[1;33m/\u001b[0m \u001b[0msqrt\u001b[0m\u001b[1;33m(\u001b[0m\u001b[0mmultiply\u001b[0m\u001b[1;33m.\u001b[0m\u001b[0mouter\u001b[0m\u001b[1;33m(\u001b[0m\u001b[0md\u001b[0m\u001b[1;33m,\u001b[0m \u001b[0md\u001b[0m\u001b[1;33m)\u001b[0m\u001b[1;33m)\u001b[0m\u001b[1;33m\u001b[0m\u001b[0m\n\u001b[0m\u001b[0;32m   2152\u001b[0m \u001b[1;33m\u001b[0m\u001b[0m\n\u001b[0;32m   2153\u001b[0m \u001b[1;33m\u001b[0m\u001b[0m\n",
      "\u001b[1;31mAttributeError\u001b[0m: 'float' object has no attribute 'sqrt'"
     ]
    }
   ],
   "source": [
    "from __future__ import print_function,absolute_import, division\n",
    "import matplotlib.pyplot as plt\n",
    "%matplotlib inline\n",
    "import pandas as pd\n",
    "import numpy as np\n",
    "from sklearn.decomposition import PCA\n",
    "\n",
    "pPath = '/home/mel/Documents/MLfun/cancerDetec/' # parent path\n",
    "\n",
    "# # Load all of the Data # # \n",
    "dHand = pd.read_csv(pPath+'rawData.txt',names=\n",
    "                    ['id','thickness','uniSize','uniShape','adhesion',\n",
    "                     'epiSize','nuclei','chrom','nucleo','mitos','CLASS'])\n",
    "\n",
    "# # Convert data entries to integers - missing values converted to mode # #\n",
    "def toInt(dHand):\n",
    "  from scipy.stats import mode\n",
    "  import numpy as np\n",
    "  for col in dHand.columns.values:\n",
    "    xx = dHand[col] \n",
    "    dt = np.unique([type(i) for i in xx])\n",
    "    if len(dt) > 1 or type(xx.values[0]) == str: #multiple or string\n",
    "      print(str(col)+': '+ str(dt))\n",
    "      replace = int(mode(dHand[col].values.tolist())[0][0]) # mode of column\n",
    "      for idx in range(0,len(dHand[col])):\n",
    "        try:\n",
    "          dHand.loc[idx,col] = int(dHand.loc[idx,col]) #turn into int\n",
    "        except: # CONVERT TO MODE\n",
    "          dHand.loc[idx,col] = replace\n",
    "  return dHand\n",
    "# # # # # # # # # # # # # # # # # # # # # # # # # # # # # # # # #\n",
    "  \n"
   ]
  },
  {
   "cell_type": "code",
   "execution_count": null,
   "metadata": {
    "collapsed": true
   },
   "outputs": [],
   "source": [
    "dHand= toInt(dHand)\n",
    "\n",
    "X = dHand.iloc[:,1:-1] # Dataframe of predictor variables\n",
    "y = dHand['CLASS'].values # array of target variable\n",
    "\n",
    "# # # Correlation Matrix # # # \n",
    "corrMat = np.corrcoef(np.array(X.T))\n",
    "fi=plt.figure();plt.title('Correlation Matrix',fontsize = 18)\n",
    "plt.imshow(corrMat);plt.colorbar();\n",
    "plt.show()\n",
    "\n",
    "pcInit = PCA(); \n",
    "pcaOne=pcInit.fit(X)\n",
    "eigNorm = pcaOne.explained_variance_ratio_;  # percent variance (normalized eigenvalues)\n",
    "\n",
    "fig=plt.figure()\n",
    "plt.plot(eigNorm);\n",
    "plt.ylabel('Normalized Eigenvalues');\n",
    "plt.show()\n",
    "\n",
    "loadings = pcaOne.components_\n",
    "figg=plt.figure;\n",
    "plt.imshow(loadings[0:3,:])\n",
    "plt.colorbar()\n",
    "plt.title('Loadings on first 3 PCs')\n",
    "plt.ylabel('PC'); plt.ylabel('Feature')\n",
    "\n",
    "print('First PC explains 70% of variance, and all features contibute weakly.'+\\\n",
    "'This means that you want to include all variables in final model')"
   ]
  },
  {
   "cell_type": "markdown",
   "metadata": {},
   "source": [
    "# Step(1) - Determine if Batch Process is Needed and Quantify Group Balance "
   ]
  },
  {
   "cell_type": "code",
   "execution_count": 45,
   "metadata": {
    "collapsed": false
   },
   "outputs": [
    {
     "name": "stdout",
     "output_type": "stream",
     "text": [
      "Nrows = 698\n",
      "Catagory Balance: [65.52, 34.48]\n"
     ]
    }
   ],
   "source": [
    "from __future__ import print_function,absolute_import, division\n",
    "import pandas as pd\n",
    "import numpy as np\n",
    "\n",
    "pPath = '/home/mel/Documents/stackNotes/cancerDetec/' # parent path\n",
    "nMax = 5000 # max number of rows before batch process need\n",
    "\n",
    "\n",
    "# # Determine number of rows to decide if batch processing is needed #\n",
    "dHand = pd.read_csv(pPath+'rawData.txt',usecols=[0])\n",
    "if len(dHand) < nMax:\n",
    "  print( 'Nrows = ' + str(len(dHand)) )\n",
    "\n",
    "# # Load all of the Data # # \n",
    "  dHand = pd.read_csv(pPath+'rawData.txt',names=\n",
    "                      ['id','thickness','uniSize','uniShape','adhesion',\n",
    "                       'epiSize','nuclei','chrom','nucleo','mitos','CLASS'])\n",
    "\n",
    "  # # Determine Class Balance # # \n",
    "  y = dHand['CLASS'].values # array of catagory assignments\n",
    "  cats = np.unique(y) \n",
    "  gBal = [round(sum(y==i)/len(y)*100,2) for i in cats]\n",
    "  print('Class Balance: ' + str(gBal))  \n",
    "else:\n",
    "  print('More than'+str(nMax)+' rows in Data - batch it')"
   ]
  }
 ],
 "metadata": {
  "kernelspec": {
   "display_name": "Python 2",
   "language": "python",
   "name": "python2"
  },
  "language_info": {
   "codemirror_mode": {
    "name": "ipython",
    "version": 2
   },
   "file_extension": ".py",
   "mimetype": "text/x-python",
   "name": "python",
   "nbconvert_exporter": "python",
   "pygments_lexer": "ipython2",
   "version": "2.7.11"
  }
 },
 "nbformat": 4,
 "nbformat_minor": 0
}
