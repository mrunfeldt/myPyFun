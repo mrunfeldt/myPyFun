{
 "cells": [
  {
   "cell_type": "code",
   "execution_count": 49,
   "metadata": {
    "collapsed": false
   },
   "outputs": [
    {
     "name": "stdout",
     "output_type": "stream",
     "text": [
      "N rows in table = 698\n",
      "N columns in table = 11\n"
     ]
    }
   ],
   "source": [
    "from __future__ import print_function, absolute_import, division\n",
    "import pandas as pd\n",
    "import matplotlib.pyplot as plt\n",
    "%matplotlib inline\n",
    "\n",
    "loadP = '/home/mel/Documents/MLfun/cancerDetec/rawData.txt'\n",
    "\n",
    "hand = pd.read_csv(loadP,iterator = True, chunksize = 1000)\n",
    "\n",
    "n_rows = 0\n",
    "for h in hand:\n",
    "  n_rows += h.shape[0]  \n",
    "print('N rows in table = ' + str(n_rows))\n",
    "print('N columns in table = ' + str(h.shape[1]))"
   ]
  },
  {
   "cell_type": "code",
   "execution_count": 50,
   "metadata": {
    "collapsed": false
   },
   "outputs": [
    {
     "data": {
      "text/plain": [
       "False"
      ]
     },
     "execution_count": 50,
     "metadata": {},
     "output_type": "execute_result"
    }
   ],
   "source": [
    "from __future__ import print_function,absolute_import, division\n",
    "import matplotlib.pyplot as plt\n",
    "%matplotlib inline\n",
    "import pandas as pd\n",
    "import numpy as np\n",
    "\n",
    "\n",
    "pPath = '/home/mel/Documents/MLfun/cancerDetec/' # parent pat\n",
    "\n",
    "# # Load all of the Data # # \n",
    "df = pd.read_csv(pPath+'rawData.txt',names=\n",
    "                    ['id','thickness','uniSize','uniShape','adhesion',\n",
    "                     'epiSize','nuclei','chrom','nucleo','mitos','CLASS'])\n",
    "\n",
    "np.dtype(df['CLASS'][0]) != np.int64\n",
    "\n",
    "# determine data types\n",
    "# for h in df.columns: # for each column\n",
    "#   data_type = [type(a) for a in df[h]]\n",
    "#   print(str(np.unique(data_type)) + '  ' + str(h))\n"
   ]
  },
  {
   "cell_type": "code",
   "execution_count": 48,
   "metadata": {
    "collapsed": false
   },
   "outputs": [
    {
     "data": {
      "text/plain": [
       "False"
      ]
     },
     "execution_count": 48,
     "metadata": {},
     "output_type": "execute_result"
    }
   ],
   "source": []
  }
 ],
 "metadata": {
  "kernelspec": {
   "display_name": "Python 2",
   "language": "python",
   "name": "python2"
  },
  "language_info": {
   "codemirror_mode": {
    "name": "ipython",
    "version": 2
   },
   "file_extension": ".py",
   "mimetype": "text/x-python",
   "name": "python",
   "nbconvert_exporter": "python",
   "pygments_lexer": "ipython2",
   "version": "2.7.11"
  }
 },
 "nbformat": 4,
 "nbformat_minor": 0
}
