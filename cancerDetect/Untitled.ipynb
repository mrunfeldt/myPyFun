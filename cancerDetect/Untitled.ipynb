{
 "cells": [
  {
   "cell_type": "code",
   "execution_count": 39,
   "metadata": {
    "collapsed": false
   },
   "outputs": [
    {
     "name": "stdout",
     "output_type": "stream",
     "text": [
      "[4, 22, 24]\n"
     ]
    }
   ],
   "source": [
    "#from __future__ import division, print_function\n",
    "\n",
    "x = [1,5,4, 6, 11, 21, 22, 18, 24]\n",
    "# idx = [1,2,3,4,5,6,7]  -> \n",
    "# answer = [4, 22]\n",
    "\n",
    "# get list that yields the even numbers in the odd positions\n",
    "\n",
    "answer = [] # initialize as list\n",
    "for i in range(0,len(x),2): # only look at odd indices\n",
    "  if x[i]/2 == int(x[i]/2): # if number divisible by 2\n",
    "    answer.append(x[i])\n",
    "    \n",
    "print(answer)    \n",
    "  \n",
    "\n"
   ]
  },
  {
   "cell_type": "code",
   "execution_count": 47,
   "metadata": {
    "collapsed": false
   },
   "outputs": [
    {
     "data": {
      "text/plain": [
       "[4, 22, 24]"
      ]
     },
     "execution_count": 47,
     "metadata": {},
     "output_type": "execute_result"
    }
   ],
   "source": [
    "x[0:2:5]\n",
    "\n",
    "# 5%2 = 1\n",
    "# N%2 = 0 # iff N is even\n",
    "answer = [i for i in x[::2] if i%2 == 0]\n",
    "answer"
   ]
  },
  {
   "cell_type": "code",
   "execution_count": 52,
   "metadata": {
    "collapsed": false
   },
   "outputs": [
    {
     "name": "stdout",
     "output_type": "stream",
     "text": [
      "[4, 22, 24]\n"
     ]
    }
   ],
   "source": [
    "#x[0:5:2]# start:stop(ex):stepsize\n",
    "print ([i for i in x[::2] if i%2 == 0])"
   ]
  },
  {
   "cell_type": "code",
   "execution_count": 50,
   "metadata": {
    "collapsed": false
   },
   "outputs": [
    {
     "name": "stdout",
     "output_type": "stream",
     "text": [
      "3\n"
     ]
    }
   ],
   "source": [
    "#print(3)"
   ]
  },
  {
   "cell_type": "code",
   "execution_count": 103,
   "metadata": {
    "collapsed": false
   },
   "outputs": [
    {
     "name": "stdout",
     "output_type": "stream",
     "text": [
      "[1.5, 2.5]\n",
      "1.5\n",
      "2.0\n"
     ]
    }
   ],
   "source": [
    "# function, input = list, output = running median\n",
    "\n",
    "# (1) Order List\n",
    "# (2) Need to know length: if odd, median = middle value; if even, median = mean of the two middle values\n",
    "\n",
    "#x = [1,5,4, 6, 11, 21, 22, 18, 24,26]\n",
    "\n",
    "x = [1.5, 2.5] # \n",
    "\n",
    "def getMedian(x):\n",
    "  \n",
    "  srtList = sorted(x);\n",
    "\n",
    "  if len(srtList)%2 == 0: # if length is even\n",
    "    median =  (srtList[ int(len(srtList)/2)-1 ] + srtList[int(len(srtList)/2)] ) / 2\n",
    "  else:\n",
    "    median = srtList[int(len(srtList)/2)]\n",
    "  \n",
    "  return median\n",
    "\n",
    "print(sorted(x))\n",
    "for i in range(1,len(x)+1):\n",
    "  answer = getMedian(x[0:i])\n",
    "  print(answer)\n",
    "#answer = getMedian(x[0:2])\n",
    "\n"
   ]
  },
  {
   "cell_type": "code",
   "execution_count": 104,
   "metadata": {
    "collapsed": false
   },
   "outputs": [
    {
     "data": {
      "text/plain": [
       "[1.5, 2.0, 2.5]"
      ]
     },
     "execution_count": 104,
     "metadata": {},
     "output_type": "execute_result"
    }
   ],
   "source": [
    "import numpy as np\n",
    "\n",
    "x = [1.5, 2.5, 3.5] # \n",
    "\n",
    "\n",
    "def myfun(x):\n",
    "  return [np.median(x[0:i]) for i in range(1,len(x)+1)]\n",
    "\n",
    "\n",
    "def myfun2(x):\n",
    "  return [[i for i in range(len(x))] for i in range(1,len(x)+1)]\n",
    "\n",
    "\n"
   ]
  },
  {
   "cell_type": "code",
   "execution_count": null,
   "metadata": {
    "collapsed": true
   },
   "outputs": [],
   "source": [
    "#x = [1,5,4, 6, 3, 0, 11, 2, 21, 22, 18, 24,26]\n",
    "\n",
    "0, 1,3, 4, 5, 6, 11,\n",
    "\n",
    "NlogN * N  = N**2logN"
   ]
  }
 ],
 "metadata": {
  "kernelspec": {
   "display_name": "Python 2",
   "language": "python",
   "name": "python2"
  },
  "language_info": {
   "codemirror_mode": {
    "name": "ipython",
    "version": 2
   },
   "file_extension": ".py",
   "mimetype": "text/x-python",
   "name": "python",
   "nbconvert_exporter": "python",
   "pygments_lexer": "ipython2",
   "version": "2.7.11"
  }
 },
 "nbformat": 4,
 "nbformat_minor": 0
}
